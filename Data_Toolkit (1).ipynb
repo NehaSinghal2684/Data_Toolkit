{
  "nbformat": 4,
  "nbformat_minor": 0,
  "metadata": {
    "colab": {
      "provenance": []
    },
    "kernelspec": {
      "name": "python3",
      "display_name": "Python 3"
    },
    "language_info": {
      "name": "python"
    }
  },
  "cells": [
    {
      "cell_type": "markdown",
      "source": [
        "# **Theoretical Questions:**"
      ],
      "metadata": {
        "id": "x5PjHRPIjVzm"
      }
    },
    {
      "cell_type": "markdown",
      "source": [
        "**Q1.** What is NumPy, and why is it widely used in Python ?  \n",
        "**Ans:**NumPy is a powerful Python library used for working with arrays and matrices. It is widely used in scientific computing, data analysis, and machine learning due to its efficiency and ease of use. NumPy provides a high-performance multidimensional array object called ndarray and a large library of mathematical functions to operate on these arrays.   \n",
        "**NumPy is widely used in python because**:\n",
        "\n",
        "1.Efficient Array Operations: NumPy arrays are stored in contiguous memory locations, making them faster and more efficient than Python lists. This is due to the locality of reference, which allows for quicker access and manipulation of data.  \n",
        "2.Multidimensional Arrays: NumPy supports arrays with multiple dimensions, allowing for complex data structures. The number of dimensions is called the rank, and the shape of the array is a tuple of integers representing the size along each dimension.  \n",
        "3.Mathematical Functions: NumPy provides a wide range of mathematical functions for operations such as addition, subtraction, multiplication, division, and more. These operations can be performed element-wise on arrays.  \n",
        "4.Broadcasting: NumPy supports broadcasting, which allows for operations between arrays of different shapes. This feature is useful for performing operations between a vector and a scalar or between arrays of different sizes.  \n",
        "5.Indexing and Slicing: NumPy arrays can be indexed and sliced in various ways, similar to Python lists. This allows for easy access and manipulation of specific elements or subarrays ."
      ],
      "metadata": {
        "id": "RKJnZYu4jem3"
      }
    },
    {
      "cell_type": "markdown",
      "source": [
        "**Q2.** How does broadcasting work in NumPy?  \n",
        "**Ans:**Broadcasting in NumPy refers to the ability to perform arithmetic operations on arrays of different shapes. This feature allows NumPy to treat arrays with different dimensions during arithmetic operations, ensuring they have compatible shapes without making unnecessary copies of data.  \n",
        "Key Principles :\n",
        "When performing operations on two arrays, NumPy compares their shapes element-wise, starting from the trailing (rightmost) dimension and working its way left.   \n",
        "Two dimensions are compatible when:  They are equal, or  One of them is 1.\n",
        "\n",
        "If these conditions are not met, a ValueError is raised, indicating that the arrays have incompatible shapes.  \n",
        "Example :Here is a simple example of broadcasting with NumPy:"
      ],
      "metadata": {
        "id": "njw9UQh3jtgX"
      }
    },
    {
      "cell_type": "code",
      "source": [
        "import numpy as np\n",
        "a = np.array([1.0, 2.0, 3.0])    # Define a 1-D array\n",
        "b = 2.0\n",
        "result = a * b\n",
        "print(result)"
      ],
      "metadata": {
        "colab": {
          "base_uri": "https://localhost:8080/"
        },
        "id": "UfBgKP7NswXt",
        "outputId": "5889e7f5-1e96-4f24-c746-f0c4d8c1f2ca"
      },
      "execution_count": null,
      "outputs": [
        {
          "output_type": "stream",
          "name": "stdout",
          "text": [
            "[2. 4. 6.]\n"
          ]
        }
      ]
    },
    {
      "cell_type": "markdown",
      "source": [
        "**Q3.**A What is a Pandas DataFrame?  \n",
        "**Ans:** A Pandas DataFrame is a two-dimensional, size-mutable, and potentially heterogeneous tabular data structure with labeled axes (rows and columns). It is similar to a table in a database or an Excel spreadsheet. DataFrames are one of the primary data structures in the Pandas library, which is widely used for data manipulation and analysis in Python .  \n",
        "Creating a DataFrame:  \n",
        "A DataFrame can be created from various data sources such as lists, dictionaries, NumPy arrays, or even other DataFrames.    \n",
        "Key Features:  \n",
        "1. Labeled Axes: DataFrames have labeled axes (rows and columns), which makes it easy to access and manipulate data using labels.\n",
        "2. Size-Mutable: You can add or remove rows and columns from a DataFrame.\n",
        "3. Heterogeneous Data: DataFrames can hold different types of data (e.g., integers, floats, strings) in different columns\n",
        "\n",
        "Here is an example of creating a DataFrame from a dictionary:"
      ],
      "metadata": {
        "id": "QeWcng5Bj4uG"
      }
    },
    {
      "cell_type": "code",
      "source": [
        "import pandas as pd\n",
        "data = {\n",
        "\"calories\": [420, 380, 390],\n",
        "\"duration\": [50, 40, 45]\n",
        "}\n",
        "df = pd.DataFrame(data)\n",
        "print(df)"
      ],
      "metadata": {
        "colab": {
          "base_uri": "https://localhost:8080/"
        },
        "id": "sgL4DjPYtwU1",
        "outputId": "911ffe73-0ce6-4e73-dfcf-48025f644988"
      },
      "execution_count": null,
      "outputs": [
        {
          "output_type": "stream",
          "name": "stdout",
          "text": [
            "   calories  duration\n",
            "0       420        50\n",
            "1       380        40\n",
            "2       390        45\n"
          ]
        }
      ]
    },
    {
      "cell_type": "markdown",
      "source": [
        "**Q4.**Explain the use of the groupby() method in Pandas.  \n",
        "**Ans:**Groupby is a fundamental and powerful data analysis technique in data analysis . It allows you to group categories and apply functions to them efficiently, making it essential for handling large datasets. Its ability to aggregate data with minimal code and high performance makes it invaluable for real-world projects.\n",
        "\n",
        "Groupby mainly refers to a process involving one or more of the following steps they are:   \n",
        "1.Splitting : It is a process in which we split data into group by applying some conditions on datasets.  \n",
        "2.Applying : It is a process in which we apply a function to each group independently.  \n",
        "3.Combining : It is a process in which we combine different datasets after applying groupby and results into a data structure"
      ],
      "metadata": {
        "id": "VWK7D-b7k3l-"
      }
    },
    {
      "cell_type": "code",
      "source": [
        "import pandas as pd\n",
        "df = pd.DataFrame({\n",
        "'Animal': ['Falcon', 'Falcon', 'Parrot', 'Parrot'],\n",
        "'Max Speed': [380., 370., 24., 26.]\n",
        "})\n",
        "grouped_df = df.groupby('Animal').mean()\n",
        "print(grouped_df)"
      ],
      "metadata": {
        "colab": {
          "base_uri": "https://localhost:8080/"
        },
        "id": "-ex0tDMvvqSd",
        "outputId": "b794276f-390a-4766-b407-64c0e9ce2822"
      },
      "execution_count": null,
      "outputs": [
        {
          "output_type": "stream",
          "name": "stdout",
          "text": [
            "        Max Speed\n",
            "Animal           \n",
            "Falcon      375.0\n",
            "Parrot       25.0\n"
          ]
        }
      ]
    },
    {
      "cell_type": "markdown",
      "source": [
        "**Q5.** Why is Seaborn preferred for statistical visualizations ?  \n",
        "**Ans:**Seaborn is preferred for statistical visualizations for several reasons:\n",
        "\n",
        "1.Ease of Use:   Seaborn has a high-level interface that makes it easy to create attractive and informative statistical graphics. It simplifies complex data visualizations with less code.\n",
        "\n",
        "2.Integration with Pandas: Seaborn works seamlessly with Pandas, making it easy to plot data directly from Pandas DataFrames.\n",
        "\n",
        "3.Built-in Themes: Seaborn provides built-in themes and color palettes to make your visualizations more aesthetically pleasing. This helps create professional-looking plots with minimal effort.\n",
        "\n",
        "4.Statistical Aggregations: Seaborn includes functions to perform statistical aggregations and visualizations. It can automatically handle statistical transformations, making it easier to visualize relationships in your data.\n",
        "\n",
        "5.Complex Visualizations: Seaborn can create complex visualizations, such as heatmaps, pair plots, and violin plots, which are not as straightforward to generate with other libraries like Matplotlib.\n",
        "\n",
        "6.Customization: While Seaborn has high-level functions, it also allows for customization. You can fine-tune your plots using additional arguments and by integrating with Matplotlib.\n",
        "\n",
        "7.Handling of Categorical Data: Seaborn is particularly strong in visualizing categorical data. It offers several functions, such as barplot, boxplot, and violinplot, to create insightful visualizations for categorical variables"
      ],
      "metadata": {
        "id": "JpNdrGDqlCvk"
      }
    },
    {
      "cell_type": "markdown",
      "source": [
        "**Q6.** What are the differences between NumPy arrays and Python lists?  \n",
        "**Ans:** Both NumPy arrays and Python lists are used to store collections of items, but they have some key differences:\n",
        "\n",
        "1.Performance: NumPy arrays are faster and more efficient than Python lists .\n",
        "\n",
        "2.Memory Efficiency: NumPy arrays use less memory than Python lists. In a list, each element has its own data structure overhead, whereas in a NumPy array, elements are stored in contiguous memory.\n",
        "\n",
        "3.Functionality: NumPy arrays come with a wide range of mathematical functions and methods, making it easier to perform complex calculations and array manipulations. Python lists lack these built-in functions.\n",
        "\n",
        "4.Homogeneity: NumPy arrays are homogeneous, meaning all elements must be of the same type (e.g., all integers or all floats). Python lists can store elements of different data types.\n",
        "\n",
        "5.Dimensionality: NumPy supports multi-dimensional arrays (e.g., 2D matrices, 3D tensors), which are very useful for scientific computing and data analysis. Python lists are inherently one-dimensional but can contain other lists to create nested structures.\n",
        "\n",
        "6.Indexing and Slicing: NumPy arrays support advanced indexing and slicing, allowing for more complex data manipulation. Python lists also support indexing and slicing, but with fewer advanced features."
      ],
      "metadata": {
        "id": "9TsKNT1clMt_"
      }
    },
    {
      "cell_type": "markdown",
      "source": [
        "**Q7.**What is a heatmap, and when should it be used ?  \n",
        "**Ans:**A heatmap is a graphical representation of data where values are depicted by color. It's a great tool for visualizing the magnitude of data across a two-dimensional space, helping to identify patterns, trends, and outliers.  \n",
        "Heatmaps are useful in various scenarios, such as:  \n",
        "1.Website Analytics: Understand how users interact with a website. Hot spots indicate areas where users click the most, while cold spots show where they hardly click.  \n",
        "2.Financial Data: Visualize stock market movements. Different colors can represent gains or losses, helping to quickly assess market conditions.  \n",
        "3.Geographical Data: Show the intensity of an event or phenomenon across a map, like population density, weather patterns, or crime rates.  \n",
        "4.Correlation Matrices: In data analysis, heatmaps can display the correlation between different variables, making it easier to spot relationships."
      ],
      "metadata": {
        "id": "krbAoDFXlbLd"
      }
    },
    {
      "cell_type": "markdown",
      "source": [
        "**Q8.** What does the term “vectorized operation” mean in NumPy?  \n",
        "**Ans:**A \"vectorized operation\" in NumPy refers to performing operations on entire arrays or large chunks of data simultaneously, rather than iterating through individual elements. This approach leverages NumPy's internal optimizations, making the computations faster and more efficient.    \n",
        "\n",
        "Using vectorized operations not only simplifies your code but also benefits from performance improvements due to NumPy's implementation in C, which can be much faster than Python loops. This makes NumPy a powerful tool for handling large datasets and performing complex mathematical operations.\n",
        "\n",
        "For instance, instead of using a loop to add two arrays element-wise, a vectorized operation allows you to perform the addition in a single step:"
      ],
      "metadata": {
        "id": "nEN0pGLdll6U"
      }
    },
    {
      "cell_type": "code",
      "source": [
        "import numpy as np\n",
        "a = np.array([1, 2, 3])\n",
        "b = np.array([4, 5, 6])\n",
        "c = a + b\n",
        "print (c)"
      ],
      "metadata": {
        "colab": {
          "base_uri": "https://localhost:8080/"
        },
        "id": "67S04JuW3Jtq",
        "outputId": "9b84b352-1c37-4ad2-cbb4-e97468052edb"
      },
      "execution_count": null,
      "outputs": [
        {
          "output_type": "stream",
          "name": "stdout",
          "text": [
            "[5 7 9]\n"
          ]
        }
      ]
    },
    {
      "cell_type": "markdown",
      "source": [
        "**Q9.**How does Matplotlib differ from Plotly?  \n",
        "**Ans:**Both Matplotlib and Plotly are popular Python libraries for creating visualizations, but they have some key differences:\n",
        "\n",
        "**Matplotlib**  \n",
        "1.Usage: Ideal for creating static, publication-quality plots.  \n",
        "2.Customization: Highly customizable and flexible, but this can sometimes make it a bit complex for beginners.  \n",
        "3.Types of Plots: Supports a wide range of plots, such as line plots, scatter plots, bar charts, histograms, and more.  \n",
        "4.Interactivity: Limited interactivity; mainly used for static images.  \n",
        "5.Integration: Well-integrated with other scientific libraries like NumPy and Pandas.\n",
        "\n",
        "**Plotly**  \n",
        "1.Usage: Best suited for creating interactive and dynamic plots.  \n",
        "2.Customization: Offers a simpler API for creating complex visualizations, making it easier for beginners.  \n",
        "3.Types of Plots: Supports a wide range of plots, including 3D plots, geographic maps, and even animations.  \n",
        "4.Interactivity: Highly interactive, allowing users to zoom, hover, and click on data points.  \n",
        "5.Integration: Integrates well with web applications and frameworks like Dash.  "
      ],
      "metadata": {
        "id": "UApxIm8Nlwie"
      }
    },
    {
      "cell_type": "markdown",
      "source": [
        "**Q10.**What is the significance of hierarchical indexing in Pandas?  \n",
        "**Ans:**Hierarchical indexing in Pandas is a powerful feature that allows you to work with multi-level (or hierarchical) indexing on DataFrames. This enables you to represent higher-dimensional data in a lower-dimensional DataFrame, which can be very useful for complex data analysis and manipulation.\n",
        "\n",
        "Hierarchical indexing is significant because :\n",
        "\n",
        "1.Organizing and Representing Complex Data: It allows you to have multiple levels of indexing, making it easier to work with data that has a nested or hierarchical structure.\n",
        "\n",
        "2.Efficient Data Manipulation: Hierarchical indexing facilitates data slicing, dicing, and aggregation along different levels of the index.You can easily select subsets of the data using different levels of the index, making data manipulation more intuitive and efficient.\n",
        "\n",
        "3.Group by Operations: It enhances the power of groupby operations by allowing you to group data by multiple levels of indices.This can lead to more granular and meaningful aggregations.\n",
        "\n",
        "4.Pivoting and Reshaping: Hierarchical indexing works seamlessly with pivoting and reshaping operations.Functions like stack and unstack allow you to convert between different shapes of DataFrames while preserving the hierarchical structure.\n",
        "\n",
        "5.Data Alignment: With hierarchical indexing, aligning data from different DataFrames based on multiple levels of indices becomes straightforward."
      ],
      "metadata": {
        "id": "ySgpr8fkl6iN"
      }
    },
    {
      "cell_type": "markdown",
      "source": [
        "**Q11**. What is the role of Seaborn’s pairplot() function?  \n",
        "**Ans:**Seaborn's pairplot() function is a fantastic tool for visualizing pairwise relationships in a dataset. Here's what it does:\n",
        "\n",
        "1.Overview of Relationships: It creates a matrix of scatter plots, allowing you to see relationships between all possible pairs of variables.\n",
        "\n",
        "2.Distribution Insight: Along the diagonal, it shows histograms or KDE plots of individual variables to give you a sense of their distributions.\n",
        "\n",
        "3.Grouping: You can use the hue parameter to color-code data points by category, making it easy to visualize how different groups relate to each other."
      ],
      "metadata": {
        "id": "Tg4BfkOzmGgb"
      }
    },
    {
      "cell_type": "markdown",
      "source": [
        "**Q12**.What is the purpose of the describe() function in Pandas?  \n",
        "**Ans:**The describe() function in Pandas is a handy tool for getting a quick statistical summary of your data. When you call describe() on a DataFrame, it returns a summary of descriptive statistics for numerical columns, including:  \n",
        "Count: The number of non-null entries.  \n",
        "Mean: The average value.  \n",
        "Standard Deviation: A measure of the spread of the data.  \n",
        "Min: The minimum value.  \n",
        "25th Percentile: The value below which 25% of the data falls.  \n",
        "50th Percentile (Median): The value below which 50% of the data falls.  \n",
        "75th Percentile: The value below which 75% of the data falls.  \n",
        "Max: The maximum value."
      ],
      "metadata": {
        "id": "IgKeaEORmN9B"
      }
    },
    {
      "cell_type": "code",
      "source": [
        "import pandas as pd\n",
        "\n",
        "# Sample DataFrame\n",
        "data = {\n",
        "    'Age': [25, 30, 35, 40, 45],\n",
        "    'Salary': [50000, 60000, 70000, 80000, 90000]\n",
        "}\n",
        "df = pd.DataFrame(data)\n",
        "\n",
        "# Get the summary\n",
        "summary = df.describe()\n",
        "print(summary)\n"
      ],
      "metadata": {
        "colab": {
          "base_uri": "https://localhost:8080/"
        },
        "id": "9S00eHhzB_Ku",
        "outputId": "0c4a9d4d-a5d3-45b0-bcb5-fb385c7757af"
      },
      "execution_count": null,
      "outputs": [
        {
          "output_type": "stream",
          "name": "stdout",
          "text": [
            "             Age        Salary\n",
            "count   5.000000      5.000000\n",
            "mean   35.000000  70000.000000\n",
            "std     7.905694  15811.388301\n",
            "min    25.000000  50000.000000\n",
            "25%    30.000000  60000.000000\n",
            "50%    35.000000  70000.000000\n",
            "75%    40.000000  80000.000000\n",
            "max    45.000000  90000.000000\n"
          ]
        }
      ]
    },
    {
      "cell_type": "markdown",
      "source": [
        "**Q13.** Why is handling missing data important in Pandas?  \n",
        "**Ans:**Handling missing data is a crucial part of data preprocessing and analysis in Pandas for several reasons:  \n",
        "1.Integrity of Analysis Incomplete Data: Missing values can skew results and lead to inaccurate conclusions.  \n",
        "Representativeness: It’s important to ensure the dataset accurately represents the real-world scenario.  \n",
        "2.Avoiding Errors\n",
        "Computational Errors: Operations on missing data can lead to errors or unexpected results, such as NaN values propagating through calculations.  \n",
        "Model Performance: Missing data can negatively impact the performance of machine learning models, as many algorithms cannot handle NaN values directly.  \n",
        "3.Data Imputation\n",
        "Preserving Information: Imputing missing values with appropriate techniques helps preserve as much information as possible.  \n",
        "Enhancing Predictive Power: Properly handling missing data can improve the accuracy and robustness of predictive models.  \n",
        "4.Clean Data Representation\n",
        "Visualizations: Accurate visualizations require complete data to avoid misleading representations.  \n",
        "Consistency: Ensuring consistency in the dataset is vital for maintaining data quality and reliability."
      ],
      "metadata": {
        "id": "54TLza7TmXrg"
      }
    },
    {
      "cell_type": "markdown",
      "source": [
        "**Q14.**A What are the benefits of using Plotly for data visualization?  \n",
        "**Ans:**Plotly is a powerful tool for data visualization, and it comes with a host of benefits:  \n",
        "1.Interactive Visualizations: Plotly allows you to create interactive graphs that can be explored in real time, making it easier to identify patterns and insights.  \n",
        "2.Wide Range of Chart Types: From basic line and bar charts to more complex 3D plots, heatmaps, and geospatial visualizations, Plotly covers a wide spectrum of chart types.  \n",
        "3.Python Integration: Plotly is well-integrated with Python, one of the most popular programming languages for data science. It works seamlessly with libraries like Pandas and NumPy.  \n",
        "4.Customization: You can customize nearly every aspect of your plots, from colors and labels to layouts and annotations, to create visually appealing and informative graphics.  \n",
        "5.Collaboration: Plotly provides options for sharing your visualizations easily, whether through static images, interactive plots embedded in web pages, or online dashboards."
      ],
      "metadata": {
        "id": "T95fu97vmsO8"
      }
    },
    {
      "cell_type": "markdown",
      "source": [
        "**Q15.** How does NumPy handle multidimensional arrays?  \n",
        "**Ans:**NumPy, the library that has become a go-to for numerical computing in Python, handles multidimensional arrays with efficiency and flexibility through its ndarray object, also known as the N-dimensional array.\n",
        "Key Features -  \n",
        "1.Creation: You can create arrays using functions like numpy.array(), numpy.zeros(), numpy.ones(), or numpy.empty(). For multidimensional arrays, you simply pass nested lists.  \n",
        "2.Shape and Size: The shape attribute of an array gives you its dimensions.\n",
        "The size attribute tells you the total number of elements.  \n",
        "3.Indexing and Slicing: You can access elements using zero-based indexing and slice arrays to get sub-arrays.  \n",
        "4.Operations: NumPy allows for element-wise operations, broadcasting, and a variety of mathematical operations.  \n",
        "5.Reshaping: Arrays can be reshaped to different dimensions using the reshape method, without changing the data."
      ],
      "metadata": {
        "id": "GMX7cry2m1M4"
      }
    },
    {
      "cell_type": "markdown",
      "source": [
        "**Q16.** What is the role of Bokeh in data visualization?  \n",
        "**Ans:**Bokeh is a powerful data visualization library in Python that helps you create interactive and visually appealing plots and dashboards.\n",
        "\n",
        " Role of Bokeh in data visualization :  \n",
        "1.Interactivity: Bokeh allows users to interact with their data through tools like zooming, panning, and hovering. This makes it easier to explore and understand complex datasets.  \n",
        "2.Flexibility: It supports a wide range of visualizations, from simple line and scatter plots to complex multi-plot layouts. You can also create custom visualizations by combining different elements.  \n",
        "3.Integration: Bokeh integrates well with other popular libraries like NumPy, Pandas, and Flask, making it a versatile choice for data visualization in various applications.   \n",
        "4.Web-Ready: Bokeh generates plots as HTML documents, so you can easily embed them in web applications or share them online.  \n",
        "5.High Performance: Bokeh is designed to handle large datasets efficiently, making it suitable for big data visualization."
      ],
      "metadata": {
        "id": "X89Z4BV1nBwP"
      }
    },
    {
      "cell_type": "markdown",
      "source": [
        "**Q17.** Explain the difference between apply() and map() in Pandas?  \n",
        "**Ans:**  apply()  \n",
        "\n",
        "1.Functionality: The apply() method is used for applying a function along an axis (rows or columns) of a DataFrame.\n",
        "It can also be used on Series.\n",
        "\n",
        "2.Flexibility: apply() is more versatile as it can work with DataFrames and Series.It can take more complex functions that require more than one column.\n",
        "\n",
        "3.Usage: On a DataFrame: df.apply(func, axis=0), where axis=0 applies the function column-wise, and axis=1 applies it row-wise.\n",
        "On a Series: series.apply(func)\n",
        "\n",
        "  map()\n",
        "\n",
        "1.Functionality: The map() method is primarily used for applying a function to each element of a Series.It is often used for element-wise operations and replacements.\n",
        "\n",
        "2.Flexibility: map() is less versatile as it is only applicable to Series.\n",
        "It is best suited for element-wise transformations.\n",
        "\n",
        "3.Usage: On a Series: series.map(func)"
      ],
      "metadata": {
        "id": "mN07S81FnLko"
      }
    },
    {
      "cell_type": "markdown",
      "source": [
        "**Q18.** What are some advanced features of NumPy?  \n",
        "**Ans:**NumPy, a fundamental package for scientific computing with Python, offers an array of advanced features that enhance its usability and functionality.  \n",
        "Some advanced features:\n",
        "\n",
        "1.Ndarray (N-dimensional array): The core of NumPy is the ndarray, a versatile N-dimensional array object that can handle large datasets efficiently.\n",
        "\n",
        "2.Universal Functions (ufuncs): These are functions that operate element-wise on an ndarray, providing fast and efficient vectorized operations.\n",
        "\n",
        "3.Linear Algebra: NumPy includes functions for matrix operations, such as matrix multiplication, eigenvalue computation, and Singular Value Decomposition (SVD).\n",
        "\n",
        "4.Random Number Generation: The numpy.random module provides a suite of functions for generating random numbers, which is essential for simulations and probabilistic algorithms.\n",
        "\n",
        "5.FFT (Fast Fourier Transform): NumPy supports FFT, which is used in signal processing for frequency analysis.\n",
        "\n",
        "6.Masked Arrays: These are arrays that may have missing or invalid entries, allowing for more flexible data analysis.\n",
        "\n",
        "7.Memory Mapping: This feature enables large datasets to be stored in binary files and accessed as if they were regular arrays, facilitating efficient data manipulation without loading everything into memory.\n",
        "\n",
        "8.Interfacing with Other Languages: NumPy can be integrated with languages such as C, C++, and Fortran, providing flexibility and performance enhancements.\n",
        "\n",
        "9.Indexing: Advanced indexing techniques in NumPy allow for powerful and flexible data manipulation."
      ],
      "metadata": {
        "id": "lFvRg3GfnYz2"
      }
    },
    {
      "cell_type": "markdown",
      "source": [
        "**Q19**.How does Pandas simplify time series analysis?  \n",
        "**Ans:**Pandas, a powerful Python library, is a game-changer for time series analysis.  \n",
        "1.Date and Time Handling: Pandas has robust tools for working with dates and times. It supports datetime formats, making it easy to convert, manipulate, and analyze time-series data.  \n",
        "2.Resampling: Easily resample your data to different frequencies (e.g., daily to monthly). This is particularly helpful for aggregating data and spotting trends over different time periods.  \n",
        "3.Time-Based Indexing: Pandas allows you to use dates and times as indices, enabling convenient slicing and subsetting of time series data.  \n",
        "4.Rolling and Expanding Windows: Perform rolling window calculations like moving averages or expanding window calculations to analyze trends and patterns over time.  \n",
        "5.Missing Data Handling: Pandas provides functions to detect and handle missing data, ensuring your time series analysis isn’t skewed by gaps in data.  \n",
        "6.Time Zones: Pandas supports time zone conversions, making it simpler to work with global datasets.  \n",
        "7.Statistical Functions: Built-in functions for calculating descriptive statistics, correlations, and other statistical measures directly on time series data."
      ],
      "metadata": {
        "id": "8Fyfuy6_nih8"
      }
    },
    {
      "cell_type": "markdown",
      "source": [
        "Q20. What is the role of a pivot table in Pandas?  \n",
        "**Ans:**A pivot table in Pandas is an incredibly powerful tool for data analysis. It allows you to:  \n",
        "1.Summarize Data: Quickly create a summary of your data based on specified criteria, such as the sum, mean, or count of values in different groups.  \n",
        "2.Reshape Data: Transform your data into a different format, making it easier to analyze and visualize.  \n",
        "3.Group Data: Group your data by one or more columns, allowing you to see trends and patterns within your data.  \n",
        "4.Filter Data:Filter and sort your data easily to focus on specific subsets."
      ],
      "metadata": {
        "id": "k_n0CRrFnupm"
      }
    },
    {
      "cell_type": "markdown",
      "source": [
        "**Q21.** Why is NumPy’s array slicing faster than Python’s list slicing?  \n",
        "**Ans:**\n",
        "1 .Data Structure:  \n",
        "\n",
        "NumPy arrays are implemented in C, and they store elements in a contiguous block of memory.   \n",
        "Python lists, on the other hand, are dynamic arrays and can hold objects of different types.\n",
        "\n",
        "2 .Homogeneous vs. Heterogeneous:\n",
        "\n",
        "NumPy arrays are homogeneous, meaning they store elements of the same data type.   \n",
        "Python lists are heterogeneous, meaning they can store elements of different data types .\n",
        "\n",
        "3 .Vectorized Operations:\n",
        "\n",
        "NumPy supports vectorized operations, which allow entire arrays to be processed at once using optimized C routines.   \n",
        "Python lists require explicit loops for operations on elements, which are slower due to the interpreted nature of Python.\n",
        "\n",
        "4 .Memory Access Patterns:\n",
        "\n",
        "NumPy’s contiguous memory layout ensures that slicing operations can quickly access a sequence of elements, leading to faster performance.  \n",
        "Python lists, with their non-contiguous memory layout, may result in scattered memory access patterns, leading to slower performance."
      ],
      "metadata": {
        "id": "T74mRpf3oJPH"
      }
    },
    {
      "cell_type": "markdown",
      "source": [
        "**Q22.**What are some common use cases for Seaborn?  \n",
        "**Ans:**Seaborn is a powerful data visualization library in Python, built on top of Matplotlib.   \n",
        "some common use cases for Seaborn:  \n",
        "1.Statistical Plots: Seaborn is great for creating various statistical plots like bar plots, box plots, violin plots, and pair plots, which help visualize the distribution of data and statistical relationships between variables.  \n",
        "2.Correlation Analysis: Heatmaps and pair plots in Seaborn are often used for correlation analysis, making it easy to visualize the relationships between different variables in a dataset.   \n",
        "3.Categorical Data Visualization: Seaborn excels at visualizing categorical data with plots like count plots, bar plots, and box plots, which can help identify trends and patterns in categorical variables."
      ],
      "metadata": {
        "id": "nNTRLOEQoVnQ"
      }
    },
    {
      "cell_type": "markdown",
      "source": [
        "# **Practical Question :**"
      ],
      "metadata": {
        "id": "K6F98kXUojeT"
      }
    },
    {
      "cell_type": "markdown",
      "source": [
        "**Q1.**How do you create a 2D NumPy array and calculate the sum of each row?"
      ],
      "metadata": {
        "id": "6IxaTurXosYT"
      }
    },
    {
      "cell_type": "code",
      "source": [
        "import numpy as np\n",
        "array_2d = np.array([[1, 2, 3], [4, 5, 6], [7, 8, 9]])\n",
        "row_sums = np.sum(array_2d, axis=1)\n",
        "print(\"2D NumPy Array:\")\n",
        "print(array_2d)\n",
        "print(\"Sum of each row:\")\n",
        "print(row_sums)"
      ],
      "metadata": {
        "colab": {
          "base_uri": "https://localhost:8080/"
        },
        "id": "hsXi3mraszNO",
        "outputId": "435a0b1a-640a-4e14-9928-abda464dd396"
      },
      "execution_count": null,
      "outputs": [
        {
          "output_type": "stream",
          "name": "stdout",
          "text": [
            "2D NumPy Array:\n",
            "[[1 2 3]\n",
            " [4 5 6]\n",
            " [7 8 9]]\n",
            "Sum of each row:\n",
            "[ 6 15 24]\n"
          ]
        }
      ]
    },
    {
      "cell_type": "markdown",
      "source": [
        "**Q2.**Write a Pandas script to find the mean of a specific column in a DataFrame ."
      ],
      "metadata": {
        "id": "wg534QoZo34S"
      }
    },
    {
      "cell_type": "code",
      "source": [
        "import pandas as pd\n",
        "data = {'A': [10, 20, 30, 40, 50],\n",
        "        'B': [15, 25, 35, 45, 55],\n",
        "        'C': [20, 30, 40, 50, 60]}\n",
        "df = pd.DataFrame(data)\n",
        "mean_B = df['B'].mean()\n",
        "print(\"The mean of column 'B' is:\", mean_B)"
      ],
      "metadata": {
        "colab": {
          "base_uri": "https://localhost:8080/"
        },
        "id": "PnVTSOaytFFp",
        "outputId": "7fb872ed-2d94-4c0f-ecbf-2ea6dc3560d0"
      },
      "execution_count": null,
      "outputs": [
        {
          "output_type": "stream",
          "name": "stdout",
          "text": [
            "The mean of column 'B' is: 35.0\n"
          ]
        }
      ]
    },
    {
      "cell_type": "markdown",
      "source": [
        "**Q3.**A Create a scatter plot using Matplotlib."
      ],
      "metadata": {
        "id": "ynSOj74Io-mR"
      }
    },
    {
      "cell_type": "code",
      "source": [
        "import matplotlib.pyplot as plt\n",
        "x = [1, 2, 3, 4, 5]\n",
        "y = [10, 12, 24, 35, 50]\n",
        "plt.scatter(x, y, color='blue', marker='o')\n",
        "plt.title('Sample Scatter Plot')\n",
        "plt.xlabel('X-axis')\n",
        "plt.ylabel('Y-axis')\n",
        "plt.show()"
      ],
      "metadata": {
        "colab": {
          "base_uri": "https://localhost:8080/",
          "height": 472
        },
        "id": "FO5wHDKkt2w7",
        "outputId": "97712aea-6678-4329-8ddb-dea24a623919"
      },
      "execution_count": null,
      "outputs": [
        {
          "output_type": "display_data",
          "data": {
            "text/plain": [
              "<Figure size 640x480 with 1 Axes>"
            ],
            "image/png": "[encoded data removed]"
          },
          "metadata": {}
        }
      ]
    },
    {
      "cell_type": "markdown",
      "source": [
        "**Q4.**A How do you calculate the correlation matrix using Seaborn and visualize it with a heatmap ."
      ],
      "metadata": {
        "id": "BQY-9BRMpGD8"
      }
    },
    {
      "cell_type": "code",
      "source": [
        "import pandas as pd\n",
        "import seaborn as sns\n",
        "import matplotlib.pyplot as plt\n",
        "\n",
        "# Load your data\n",
        "data = pd.read_csv('/content/books.csv')\n",
        "\n",
        "# Calculate the correlation matrix\n",
        "correlation_matrix = data.corr(numeric_only=True)\n",
        "\n",
        "# Visualize the correlation matrix using a heatmap\n",
        "plt.figure(figsize=(10, 8))\n",
        "sns.heatmap(correlation_matrix, annot=True, cmap='coolwarm', fmt='.2f', linewidths=0.5)\n",
        "plt.title('Correlation Matrix Heatmap')\n",
        "plt.show()\n"
      ],
      "metadata": {
        "colab": {
          "base_uri": "https://localhost:8080/",
          "height": 699
        },
        "id": "6UVXu5t4YiJu",
        "outputId": "10713fde-3515-407b-b9f7-71d7a4e37a8f"
      },
      "execution_count": null,
      "outputs": [
        {
          "output_type": "display_data",
          "data": {
            "text/plain": [
              "<Figure size 1000x800 with 2 Axes>"
            ],
            "image/png": "[encoded data removed]"
          },
          "metadata": {}
        }
      ]
    },
    {
      "cell_type": "markdown",
      "source": [
        "**Q5.**A Generate a bar plot using Plotly."
      ],
      "metadata": {
        "id": "o4WPxaoKpK2O"
      }
    },
    {
      "cell_type": "code",
      "source": [
        "import plotly.graph_objects as go\n",
        "categories = ['Category A', 'Category B', 'Category C', 'Category D']\n",
        "values = [10, 20, 30, 40]\n",
        "fig = go.Figure(data=[go.Bar(x=categories, y=values)])\n",
        "fig.update_layout(\n",
        "    title='Sample Bar Plot',\n",
        "    xaxis_title='Categories',\n",
        "    yaxis_title='Values'\n",
        ")\n",
        "fig.show()"
      ],
      "metadata": {
        "colab": {
          "base_uri": "https://localhost:8080/",
          "height": 542
        },
        "id": "ktR1Taycya8x",
        "outputId": "7c04ddbf-0ee2-4f23-9db2-0491e71426b2"
      },
      "execution_count": 53,
      "outputs": [
        {
          "output_type": "display_data",
          "data": {
            "text/html": [
              "<html>\n",
              "<head><meta charset=\"utf-8\" /></head>\n",
              "<body>\n",
              "    <div>            <script src=\"https://cdnjs.cloudflare.com/ajax/libs/mathjax/2.7.5/MathJax.js?config=TeX-AMS-MML_SVG\"></script><script type=\"text/javascript\">if (window.MathJax && window.MathJax.Hub && window.MathJax.Hub.Config) {window.MathJax.Hub.Config({SVG: {font: \"STIX-Web\"}});}</script>                <script type=\"text/javascript\">window.PlotlyConfig = {MathJaxConfig: 'local'};</script>\n",
              "        <script charset=\"utf-8\" src=\"https://cdn.plot.ly/plotly-2.35.2.min.js\"></script>                <div id=\"413f9eed-f005-4b80-8ae0-46426ebbf8ab\" class=\"plotly-graph-div\" style=\"height:525px; width:100%;\"></div>            <script type=\"text/javascript\">                                    window.PLOTLYENV=window.PLOTLYENV || {};                                    if (document.getElementById(\"413f9eed-f005-4b80-8ae0-46426ebbf8ab\")) {                    Plotly.newPlot(                        \"413f9eed-f005-4b80-8ae0-46426ebbf8ab\",                        [{\"x\":[\"Category A\",\"Category B\",\"Category C\",\"Category D\"],\"y\":[10,20,30,40],\"type\":\"bar\"}],                        {\"template\":{\"data\":{\"histogram2dcontour\":[{\"type\":\"histogram2dcontour\",\"colorbar\":{\"outlinewidth\":0,\"ticks\":\"\"},\"colorscale\":[[0.0,\"#0d0887\"],[0.1111111111111111,\"#46039f\"],[0.2222222222222222,\"#7201a8\"],[0.3333333333333333,\"#9c179e\"],[0.4444444444444444,\"#bd3786\"],[0.5555555555555556,\"#d8576b\"],[0.6666666666666666,\"#ed7953\"],[0.7777777777777778,\"#fb9f3a\"],[0.8888888888888888,\"#fdca26\"],[1.0,\"#f0f921\"]]}],\"choropleth\":[{\"type\":\"choropleth\",\"colorbar\":{\"outlinewidth\":0,\"ticks\":\"\"}}],\"histogram2d\":[{\"type\":\"histogram2d\",\"colorbar\":{\"outlinewidth\":0,\"ticks\":\"\"},\"colorscale\":[[0.0,\"#0d0887\"],[0.1111111111111111,\"#46039f\"],[0.2222222222222222,\"#7201a8\"],[0.3333333333333333,\"#9c179e\"],[0.4444444444444444,\"#bd3786\"],[0.5555555555555556,\"#d8576b\"],[0.6666666666666666,\"#ed7953\"],[0.7777777777777778,\"#fb9f3a\"],[0.8888888888888888,\"#fdca26\"],[1.0,\"#f0f921\"]]}],\"heatmap\":[{\"type\":\"heatmap\",\"colorbar\":{\"outlinewidth\":0,\"ticks\":\"\"},\"colorscale\":[[0.0,\"#0d0887\"],[0.1111111111111111,\"#46039f\"],[0.2222222222222222,\"#7201a8\"],[0.3333333333333333,\"#9c179e\"],[0.4444444444444444,\"#bd3786\"],[0.5555555555555556,\"#d8576b\"],[0.6666666666666666,\"#ed7953\"],[0.7777777777777778,\"#fb9f3a\"],[0.8888888888888888,\"#fdca26\"],[1.0,\"#f0f921\"]]}],\"heatmapgl\":[{\"type\":\"heatmapgl\",\"colorbar\":{\"outlinewidth\":0,\"ticks\":\"\"},\"colorscale\":[[0.0,\"#0d0887\"],[0.1111111111111111,\"#46039f\"],[0.2222222222222222,\"#7201a8\"],[0.3333333333333333,\"#9c179e\"],[0.4444444444444444,\"#bd3786\"],[0.5555555555555556,\"#d8576b\"],[0.6666666666666666,\"#ed7953\"],[0.7777777777777778,\"#fb9f3a\"],[0.8888888888888888,\"#fdca26\"],[1.0,\"#f0f921\"]]}],\"contourcarpet\":[{\"type\":\"contourcarpet\",\"colorbar\":{\"outlinewidth\":0,\"ticks\":\"\"}}],\"contour\":[{\"type\":\"contour\",\"colorbar\":{\"outlinewidth\":0,\"ticks\":\"\"},\"colorscale\":[[0.0,\"#0d0887\"],[0.1111111111111111,\"#46039f\"],[0.2222222222222222,\"#7201a8\"],[0.3333333333333333,\"#9c179e\"],[0.4444444444444444,\"#bd3786\"],[0.5555555555555556,\"#d8576b\"],[0.6666666666666666,\"#ed7953\"],[0.7777777777777778,\"#fb9f3a\"],[0.8888888888888888,\"#fdca26\"],[1.0,\"#f0f921\"]]}],\"surface\":[{\"type\":\"surface\",\"colorbar\":{\"outlinewidth\":0,\"ticks\":\"\"},\"colorscale\":[[0.0,\"#0d0887\"],[0.1111111111111111,\"#46039f\"],[0.2222222222222222,\"#7201a8\"],[0.3333333333333333,\"#9c179e\"],[0.4444444444444444,\"#bd3786\"],[0.5555555555555556,\"#d8576b\"],[0.6666666666666666,\"#ed7953\"],[0.7777777777777778,\"#fb9f3a\"],[0.8888888888888888,\"#fdca26\"],[1.0,\"#f0f921\"]]}],\"mesh3d\":[{\"type\":\"mesh3d\",\"colorbar\":{\"outlinewidth\":0,\"ticks\":\"\"}}],\"scatter\":[{\"fillpattern\":{\"fillmode\":\"overlay\",\"size\":10,\"solidity\":0.2},\"type\":\"scatter\"}],\"parcoords\":[{\"type\":\"parcoords\",\"line\":{\"colorbar\":{\"outlinewidth\":0,\"ticks\":\"\"}}}],\"scatterpolargl\":[{\"type\":\"scatterpolargl\",\"marker\":{\"colorbar\":{\"outlinewidth\":0,\"ticks\":\"\"}}}],\"bar\":[{\"error_x\":{\"color\":\"#2a3f5f\"},\"error_y\":{\"color\":\"#2a3f5f\"},\"marker\":{\"line\":{\"color\":\"#E5ECF6\",\"width\":0.5},\"pattern\":{\"fillmode\":\"overlay\",\"size\":10,\"solidity\":0.2}},\"type\":\"bar\"}],\"scattergeo\":[{\"type\":\"scattergeo\",\"marker\":{\"colorbar\":{\"outlinewidth\":0,\"ticks\":\"\"}}}],\"scatterpolar\":[{\"type\":\"scatterpolar\",\"marker\":{\"colorbar\":{\"outlinewidth\":0,\"ticks\":\"\"}}}],\"histogram\":[{\"marker\":{\"pattern\":{\"fillmode\":\"overlay\",\"size\":10,\"solidity\":0.2}},\"type\":\"histogram\"}],\"scattergl\":[{\"type\":\"scattergl\",\"marker\":{\"colorbar\":{\"outlinewidth\":0,\"ticks\":\"\"}}}],\"scatter3d\":[{\"type\":\"scatter3d\",\"line\":{\"colorbar\":{\"outlinewidth\":0,\"ticks\":\"\"}},\"marker\":{\"colorbar\":{\"outlinewidth\":0,\"ticks\":\"\"}}}],\"scattermapbox\":[{\"type\":\"scattermapbox\",\"marker\":{\"colorbar\":{\"outlinewidth\":0,\"ticks\":\"\"}}}],\"scatterternary\":[{\"type\":\"scatterternary\",\"marker\":{\"colorbar\":{\"outlinewidth\":0,\"ticks\":\"\"}}}],\"scattercarpet\":[{\"type\":\"scattercarpet\",\"marker\":{\"colorbar\":{\"outlinewidth\":0,\"ticks\":\"\"}}}],\"carpet\":[{\"aaxis\":{\"endlinecolor\":\"#2a3f5f\",\"gridcolor\":\"white\",\"linecolor\":\"white\",\"minorgridcolor\":\"white\",\"startlinecolor\":\"#2a3f5f\"},\"baxis\":{\"endlinecolor\":\"#2a3f5f\",\"gridcolor\":\"white\",\"linecolor\":\"white\",\"minorgridcolor\":\"white\",\"startlinecolor\":\"#2a3f5f\"},\"type\":\"carpet\"}],\"table\":[{\"cells\":{\"fill\":{\"color\":\"#EBF0F8\"},\"line\":{\"color\":\"white\"}},\"header\":{\"fill\":{\"color\":\"#C8D4E3\"},\"line\":{\"color\":\"white\"}},\"type\":\"table\"}],\"barpolar\":[{\"marker\":{\"line\":{\"color\":\"#E5ECF6\",\"width\":0.5},\"pattern\":{\"fillmode\":\"overlay\",\"size\":10,\"solidity\":0.2}},\"type\":\"barpolar\"}],\"pie\":[{\"automargin\":true,\"type\":\"pie\"}]},\"layout\":{\"autotypenumbers\":\"strict\",\"colorway\":[\"#636efa\",\"#EF553B\",\"#00cc96\",\"#ab63fa\",\"#FFA15A\",\"#19d3f3\",\"#FF6692\",\"#B6E880\",\"#FF97FF\",\"#FECB52\"],\"font\":{\"color\":\"#2a3f5f\"},\"hovermode\":\"closest\",\"hoverlabel\":{\"align\":\"left\"},\"paper_bgcolor\":\"white\",\"plot_bgcolor\":\"#E5ECF6\",\"polar\":{\"bgcolor\":\"#E5ECF6\",\"angularaxis\":{\"gridcolor\":\"white\",\"linecolor\":\"white\",\"ticks\":\"\"},\"radialaxis\":{\"gridcolor\":\"white\",\"linecolor\":\"white\",\"ticks\":\"\"}},\"ternary\":{\"bgcolor\":\"#E5ECF6\",\"aaxis\":{\"gridcolor\":\"white\",\"linecolor\":\"white\",\"ticks\":\"\"},\"baxis\":{\"gridcolor\":\"white\",\"linecolor\":\"white\",\"ticks\":\"\"},\"caxis\":{\"gridcolor\":\"white\",\"linecolor\":\"white\",\"ticks\":\"\"}},\"coloraxis\":{\"colorbar\":{\"outlinewidth\":0,\"ticks\":\"\"}},\"colorscale\":{\"sequential\":[[0.0,\"#0d0887\"],[0.1111111111111111,\"#46039f\"],[0.2222222222222222,\"#7201a8\"],[0.3333333333333333,\"#9c179e\"],[0.4444444444444444,\"#bd3786\"],[0.5555555555555556,\"#d8576b\"],[0.6666666666666666,\"#ed7953\"],[0.7777777777777778,\"#fb9f3a\"],[0.8888888888888888,\"#fdca26\"],[1.0,\"#f0f921\"]],\"sequentialminus\":[[0.0,\"#0d0887\"],[0.1111111111111111,\"#46039f\"],[0.2222222222222222,\"#7201a8\"],[0.3333333333333333,\"#9c179e\"],[0.4444444444444444,\"#bd3786\"],[0.5555555555555556,\"#d8576b\"],[0.6666666666666666,\"#ed7953\"],[0.7777777777777778,\"#fb9f3a\"],[0.8888888888888888,\"#fdca26\"],[1.0,\"#f0f921\"]],\"diverging\":[[0,\"#8e0152\"],[0.1,\"#c51b7d\"],[0.2,\"#de77ae\"],[0.3,\"#f1b6da\"],[0.4,\"#fde0ef\"],[0.5,\"#f7f7f7\"],[0.6,\"#e6f5d0\"],[0.7,\"#b8e186\"],[0.8,\"#7fbc41\"],[0.9,\"#4d9221\"],[1,\"#276419\"]]},\"xaxis\":{\"gridcolor\":\"white\",\"linecolor\":\"white\",\"ticks\":\"\",\"title\":{\"standoff\":15},\"zerolinecolor\":\"white\",\"automargin\":true,\"zerolinewidth\":2},\"yaxis\":{\"gridcolor\":\"white\",\"linecolor\":\"white\",\"ticks\":\"\",\"title\":{\"standoff\":15},\"zerolinecolor\":\"white\",\"automargin\":true,\"zerolinewidth\":2},\"scene\":{\"xaxis\":{\"backgroundcolor\":\"#E5ECF6\",\"gridcolor\":\"white\",\"linecolor\":\"white\",\"showbackground\":true,\"ticks\":\"\",\"zerolinecolor\":\"white\",\"gridwidth\":2},\"yaxis\":{\"backgroundcolor\":\"#E5ECF6\",\"gridcolor\":\"white\",\"linecolor\":\"white\",\"showbackground\":true,\"ticks\":\"\",\"zerolinecolor\":\"white\",\"gridwidth\":2},\"zaxis\":{\"backgroundcolor\":\"#E5ECF6\",\"gridcolor\":\"white\",\"linecolor\":\"white\",\"showbackground\":true,\"ticks\":\"\",\"zerolinecolor\":\"white\",\"gridwidth\":2}},\"shapedefaults\":{\"line\":{\"color\":\"#2a3f5f\"}},\"annotationdefaults\":{\"arrowcolor\":\"#2a3f5f\",\"arrowhead\":0,\"arrowwidth\":1},\"geo\":{\"bgcolor\":\"white\",\"landcolor\":\"#E5ECF6\",\"subunitcolor\":\"white\",\"showland\":true,\"showlakes\":true,\"lakecolor\":\"white\"},\"title\":{\"x\":0.05},\"mapbox\":{\"style\":\"light\"}}},\"title\":{\"text\":\"Sample Bar Plot\"},\"xaxis\":{\"title\":{\"text\":\"Categories\"}},\"yaxis\":{\"title\":{\"text\":\"Values\"}}},                        {\"responsive\": true}                    ).then(function(){\n",
              "                            \n",
              "var gd = document.getElementById('413f9eed-f005-4b80-8ae0-46426ebbf8ab');\n",
              "var x = new MutationObserver(function (mutations, observer) {{\n",
              "        var display = window.getComputedStyle(gd).display;\n",
              "        if (!display || display === 'none') {{\n",
              "            console.log([gd, 'removed!']);\n",
              "            Plotly.purge(gd);\n",
              "            observer.disconnect();\n",
              "        }}\n",
              "}});\n",
              "\n",
              "// Listen for the removal of the full notebook cells\n",
              "var notebookContainer = gd.closest('#notebook-container');\n",
              "if (notebookContainer) {{\n",
              "    x.observe(notebookContainer, {childList: true});\n",
              "}}\n",
              "\n",
              "// Listen for the clearing of the current output cell\n",
              "var outputEl = gd.closest('.output');\n",
              "if (outputEl) {{\n",
              "    x.observe(outputEl, {childList: true});\n",
              "}}\n",
              "\n",
              "                        })                };                            </script>        </div>\n",
              "</body>\n",
              "</html>"
            ]
          },
          "metadata": {}
        }
      ]
    },
    {
      "cell_type": "markdown",
      "source": [
        "**Q6.**A Create a DataFrame and add a new column based on an existing column."
      ],
      "metadata": {
        "id": "t2zLpMNGpXzS"
      }
    },
    {
      "cell_type": "code",
      "source": [
        "import pandas as pd\n",
        "data = {\n",
        "    'Name': ['Aman', 'Bina', 'Champak'],\n",
        "     'Age': [25, 30, 35]\n",
        "}\n",
        "df = pd.DataFrame(data)\n",
        "df['   Age_after_10_years'] = df['Age'] + 10\n",
        "print(df)"
      ],
      "metadata": {
        "colab": {
          "base_uri": "https://localhost:8080/"
        },
        "id": "5HRDFuB1y1dl",
        "outputId": "8d625065-3e82-475e-eab2-fabf3fc0695e"
      },
      "execution_count": null,
      "outputs": [
        {
          "output_type": "stream",
          "name": "stdout",
          "text": [
            "      Name  Age     Age_after_10_years\n",
            "0     Aman   25                     35\n",
            "1     Bina   30                     40\n",
            "2  Champak   35                     45\n"
          ]
        }
      ]
    },
    {
      "cell_type": "markdown",
      "source": [
        "**Q7.**A Write a program to perform element-wise multiplication of two NumPy arrays."
      ],
      "metadata": {
        "id": "qgoS8Ej1pbl5"
      }
    },
    {
      "cell_type": "code",
      "source": [
        "import numpy as np\n",
        "array1 = np.array([1, 2, 3])\n",
        "array2 = np.array([4, 5, 6])\n",
        "result = np.multiply(array1, array2)\n",
        "\n",
        "print(\"Array 1:\", array1)\n",
        "print(\"Array 2:\", array2)\n",
        "print(\"Element-wise multiplication result:\", result)\n"
      ],
      "metadata": {
        "colab": {
          "base_uri": "https://localhost:8080/"
        },
        "id": "HRmQ98W9zxSM",
        "outputId": "9e415f65-1f95-4bc8-8fa4-1bc4eaad5c95"
      },
      "execution_count": null,
      "outputs": [
        {
          "output_type": "stream",
          "name": "stdout",
          "text": [
            "Array 1: [1 2 3]\n",
            "Array 2: [4 5 6]\n",
            "Element-wise multiplication result: [ 4 10 18]\n"
          ]
        }
      ]
    },
    {
      "cell_type": "markdown",
      "source": [
        "**Q8.**A Create a line plot with multiple lines using Matplotlib ."
      ],
      "metadata": {
        "id": "EAzh1s2XphrF"
      }
    },
    {
      "cell_type": "code",
      "source": [
        "import matplotlib.pyplot as plt\n",
        "x = [0, 1, 2, 3, 4, 5]\n",
        "y1 = [0, 1, 4, 9, 16, 25]\n",
        "y2 = [0, 1, 2, 3, 4, 5]\n",
        "\n",
        "plt.plot(x, y1, label='y = x^2')\n",
        "plt.plot(x, y2, label='y = x')\n",
        "plt.title('Line Plot with Multiple Lines')\n",
        "plt.xlabel('x')\n",
        "plt.ylabel('y')\n",
        "plt.legend()\n",
        "plt.show()"
      ],
      "metadata": {
        "colab": {
          "base_uri": "https://localhost:8080/",
          "height": 472
        },
        "id": "sYXe8laA0Unf",
        "outputId": "a26a7fb0-ad8a-44a0-9abd-68e4d39bee78"
      },
      "execution_count": null,
      "outputs": [
        {
          "output_type": "display_data",
          "data": {
            "text/plain": [
              "<Figure size 640x480 with 1 Axes>"
            ],
            "image/png": "[encoded data removed]"
          },
          "metadata": {}
        }
      ]
    },
    {
      "cell_type": "markdown",
      "source": [
        "**Q9.** Generate a Pandas DataFrame and filter rows where a column value is greater than a threshold."
      ],
      "metadata": {
        "id": "AXUWZoXdp4oM"
      }
    },
    {
      "cell_type": "code",
      "source": [
        "import pandas as pd\n",
        "data = {\n",
        "    'A': [10, 20, 30, 40, 50],\n",
        "    'B': [5, 15, 25, 35, 45]\n",
        "}\n",
        "df = pd.DataFrame(data)\n",
        "threshold = 25\n",
        "filtered_df = df[df['A'] > threshold]\n",
        "print(filtered_df)"
      ],
      "metadata": {
        "colab": {
          "base_uri": "https://localhost:8080/"
        },
        "id": "budZdZfy07vG",
        "outputId": "fa3fbc0f-4b08-40fe-e948-dcea18213f84"
      },
      "execution_count": null,
      "outputs": [
        {
          "output_type": "stream",
          "name": "stdout",
          "text": [
            "    A   B\n",
            "2  30  25\n",
            "3  40  35\n",
            "4  50  45\n"
          ]
        }
      ]
    },
    {
      "cell_type": "markdown",
      "source": [
        "**Q10.**A Create a histogram using Seaborn to visualize a distribution."
      ],
      "metadata": {
        "id": "EZlun8Fvp91e"
      }
    },
    {
      "cell_type": "code",
      "source": [
        "import seaborn as sns\n",
        "import matplotlib.pyplot as plt\n",
        "data = sns.load_dataset('tips')\n",
        "sns.histplot(data['total_bill'], kde=True)\n",
        "plt.title('Distribution of Total Bills')\n",
        "plt.xlabel('Total Bill')\n",
        "plt.ylabel('Frequency')\n",
        "plt.show()"
      ],
      "metadata": {
        "colab": {
          "base_uri": "https://localhost:8080/",
          "height": 472
        },
        "id": "osRU7yq11465",
        "outputId": "df166aba-2c8c-419a-9bf0-c4252dae8735"
      },
      "execution_count": null,
      "outputs": [
        {
          "output_type": "display_data",
          "data": {
            "text/plain": [
              "<Figure size 640x480 with 1 Axes>"
            ],
            "image/png": "[encoded data removed]"
          },
          "metadata": {}
        }
      ]
    },
    {
      "cell_type": "markdown",
      "source": [
        "**Q11.**Perform matrix multiplication using NumPy."
      ],
      "metadata": {
        "id": "ckQDg3rEqEwU"
      }
    },
    {
      "cell_type": "code",
      "source": [
        "import numpy as np\n",
        "A = np.array([[1, 2], [3, 4]])\n",
        "B = np.array([[5, 6], [7, 8]])\n",
        "C = np.dot(A, B)\n",
        "print(\"Matrix A:\")\n",
        "print(A)\n",
        "print(\"\\nMatrix B:\")\n",
        "print(B)\n",
        "print(\"\\nMatrix C (A * B):\")\n",
        "print(C)"
      ],
      "metadata": {
        "colab": {
          "base_uri": "https://localhost:8080/"
        },
        "id": "mGAK-rCo22nh",
        "outputId": "f059b15a-9d93-4db2-e98d-e8a104f9843d"
      },
      "execution_count": null,
      "outputs": [
        {
          "output_type": "stream",
          "name": "stdout",
          "text": [
            "Matrix A:\n",
            "[[1 2]\n",
            " [3 4]]\n",
            "\n",
            "Matrix B:\n",
            "[[5 6]\n",
            " [7 8]]\n",
            "\n",
            "Matrix C (A * B):\n",
            "[[19 22]\n",
            " [43 50]]\n"
          ]
        }
      ]
    },
    {
      "cell_type": "markdown",
      "source": [
        "**Q12.**A Use Pandas to load a CSV file and display its first 5 rows."
      ],
      "metadata": {
        "id": "zIFvH82mqSeR"
      }
    },
    {
      "cell_type": "code",
      "source": [
        "import pandas as pd\n",
        "try:\n",
        "    df = pd.read_csv(\"books.csv\")\n",
        "except FileNotFoundError:\n",
        "    # If the above fails, provide the full path\n",
        "    # Replace with the actual full path to your file\n",
        "    file_path = \"/path/to/your/books.csv\"\n",
        "    df = pd.read_csv(file_path)\n",
        "\n",
        "print(df.head())"
      ],
      "metadata": {
        "colab": {
          "base_uri": "https://localhost:8080/"
        },
        "id": "3l2RkvTfGoXT",
        "outputId": "8c53ffc9-fd04-434f-e139-0f6da9384fdb"
      },
      "execution_count": null,
      "outputs": [
        {
          "output_type": "stream",
          "name": "stdout",
          "text": [
            "               Book Title               Author      Genre  Price   Stock\n",
            "0        The Great Gatsby  F. Scott Fitzgerald    Fiction  10.99      25\n",
            "1   To Kill a Mockingbird           Harper Lee    Fiction   7.99      30\n",
            "2     Pride and Prejudice          Jane Austen    Romance   6.99      20\n",
            "3  The Catcher in the Rye        J.D. Salinger    Fiction   9.99      10\n",
            "4         Brave New World        Aldous Huxley  Dystopian  11.99      12\n"
          ]
        }
      ]
    },
    {
      "cell_type": "markdown",
      "source": [
        "**Q13.**A Create a 3D scatter plot using Plotly."
      ],
      "metadata": {
        "id": "o3Lz6cvUqY0D"
      }
    },
    {
      "cell_type": "code",
      "source": [
        "import plotly.express as px\n",
        "import pandas as pd\n",
        "df = pd.DataFrame({\n",
        "    'x': [1, 2, 3, 4, 5],\n",
        "    'y': [10, 11, 12, 13, 14],\n",
        "    'z': [5, 6, 2, 8, 1]\n",
        "})\n",
        "fig = px.scatter_3d(df, x='x', y='y', z='z')\n",
        "fig.show()"
      ],
      "metadata": {
        "colab": {
          "base_uri": "https://localhost:8080/",
          "height": 542
        },
        "id": "2Vzg_cnW4-KY",
        "outputId": "e7b5c3a1-ad42-4cc5-b84d-3bb63a1eb87c"
      },
      "execution_count": 52,
      "outputs": [
        {
          "output_type": "display_data",
          "data": {
            "text/html": [
              "<html>\n",
              "<head><meta charset=\"utf-8\" /></head>\n",
              "<body>\n",
              "    <div>            <script src=\"https://cdnjs.cloudflare.com/ajax/libs/mathjax/2.7.5/MathJax.js?config=TeX-AMS-MML_SVG\"></script><script type=\"text/javascript\">if (window.MathJax && window.MathJax.Hub && window.MathJax.Hub.Config) {window.MathJax.Hub.Config({SVG: {font: \"STIX-Web\"}});}</script>                <script type=\"text/javascript\">window.PlotlyConfig = {MathJaxConfig: 'local'};</script>\n",
              "        <script charset=\"utf-8\" src=\"https://cdn.plot.ly/plotly-2.35.2.min.js\"></script>                <div id=\"c48090de-4d0b-4ea0-ac1f-d1c0d0336f4f\" class=\"plotly-graph-div\" style=\"height:525px; width:100%;\"></div>            <script type=\"text/javascript\">                                    window.PLOTLYENV=window.PLOTLYENV || {};                                    if (document.getElementById(\"c48090de-4d0b-4ea0-ac1f-d1c0d0336f4f\")) {                    Plotly.newPlot(                        \"c48090de-4d0b-4ea0-ac1f-d1c0d0336f4f\",                        [{\"hovertemplate\":\"x=%{x}\\u003cbr\\u003ey=%{y}\\u003cbr\\u003ez=%{z}\\u003cextra\\u003e\\u003c\\u002fextra\\u003e\",\"legendgroup\":\"\",\"marker\":{\"color\":\"#636efa\",\"symbol\":\"circle\"},\"mode\":\"markers\",\"name\":\"\",\"scene\":\"scene\",\"showlegend\":false,\"x\":[1,2,3,4,5],\"y\":[10,11,12,13,14],\"z\":[5,6,2,8,1],\"type\":\"scatter3d\"}],                        {\"template\":{\"data\":{\"histogram2dcontour\":[{\"type\":\"histogram2dcontour\",\"colorbar\":{\"outlinewidth\":0,\"ticks\":\"\"},\"colorscale\":[[0.0,\"#0d0887\"],[0.1111111111111111,\"#46039f\"],[0.2222222222222222,\"#7201a8\"],[0.3333333333333333,\"#9c179e\"],[0.4444444444444444,\"#bd3786\"],[0.5555555555555556,\"#d8576b\"],[0.6666666666666666,\"#ed7953\"],[0.7777777777777778,\"#fb9f3a\"],[0.8888888888888888,\"#fdca26\"],[1.0,\"#f0f921\"]]}],\"choropleth\":[{\"type\":\"choropleth\",\"colorbar\":{\"outlinewidth\":0,\"ticks\":\"\"}}],\"histogram2d\":[{\"type\":\"histogram2d\",\"colorbar\":{\"outlinewidth\":0,\"ticks\":\"\"},\"colorscale\":[[0.0,\"#0d0887\"],[0.1111111111111111,\"#46039f\"],[0.2222222222222222,\"#7201a8\"],[0.3333333333333333,\"#9c179e\"],[0.4444444444444444,\"#bd3786\"],[0.5555555555555556,\"#d8576b\"],[0.6666666666666666,\"#ed7953\"],[0.7777777777777778,\"#fb9f3a\"],[0.8888888888888888,\"#fdca26\"],[1.0,\"#f0f921\"]]}],\"heatmap\":[{\"type\":\"heatmap\",\"colorbar\":{\"outlinewidth\":0,\"ticks\":\"\"},\"colorscale\":[[0.0,\"#0d0887\"],[0.1111111111111111,\"#46039f\"],[0.2222222222222222,\"#7201a8\"],[0.3333333333333333,\"#9c179e\"],[0.4444444444444444,\"#bd3786\"],[0.5555555555555556,\"#d8576b\"],[0.6666666666666666,\"#ed7953\"],[0.7777777777777778,\"#fb9f3a\"],[0.8888888888888888,\"#fdca26\"],[1.0,\"#f0f921\"]]}],\"heatmapgl\":[{\"type\":\"heatmapgl\",\"colorbar\":{\"outlinewidth\":0,\"ticks\":\"\"},\"colorscale\":[[0.0,\"#0d0887\"],[0.1111111111111111,\"#46039f\"],[0.2222222222222222,\"#7201a8\"],[0.3333333333333333,\"#9c179e\"],[0.4444444444444444,\"#bd3786\"],[0.5555555555555556,\"#d8576b\"],[0.6666666666666666,\"#ed7953\"],[0.7777777777777778,\"#fb9f3a\"],[0.8888888888888888,\"#fdca26\"],[1.0,\"#f0f921\"]]}],\"contourcarpet\":[{\"type\":\"contourcarpet\",\"colorbar\":{\"outlinewidth\":0,\"ticks\":\"\"}}],\"contour\":[{\"type\":\"contour\",\"colorbar\":{\"outlinewidth\":0,\"ticks\":\"\"},\"colorscale\":[[0.0,\"#0d0887\"],[0.1111111111111111,\"#46039f\"],[0.2222222222222222,\"#7201a8\"],[0.3333333333333333,\"#9c179e\"],[0.4444444444444444,\"#bd3786\"],[0.5555555555555556,\"#d8576b\"],[0.6666666666666666,\"#ed7953\"],[0.7777777777777778,\"#fb9f3a\"],[0.8888888888888888,\"#fdca26\"],[1.0,\"#f0f921\"]]}],\"surface\":[{\"type\":\"surface\",\"colorbar\":{\"outlinewidth\":0,\"ticks\":\"\"},\"colorscale\":[[0.0,\"#0d0887\"],[0.1111111111111111,\"#46039f\"],[0.2222222222222222,\"#7201a8\"],[0.3333333333333333,\"#9c179e\"],[0.4444444444444444,\"#bd3786\"],[0.5555555555555556,\"#d8576b\"],[0.6666666666666666,\"#ed7953\"],[0.7777777777777778,\"#fb9f3a\"],[0.8888888888888888,\"#fdca26\"],[1.0,\"#f0f921\"]]}],\"mesh3d\":[{\"type\":\"mesh3d\",\"colorbar\":{\"outlinewidth\":0,\"ticks\":\"\"}}],\"scatter\":[{\"fillpattern\":{\"fillmode\":\"overlay\",\"size\":10,\"solidity\":0.2},\"type\":\"scatter\"}],\"parcoords\":[{\"type\":\"parcoords\",\"line\":{\"colorbar\":{\"outlinewidth\":0,\"ticks\":\"\"}}}],\"scatterpolargl\":[{\"type\":\"scatterpolargl\",\"marker\":{\"colorbar\":{\"outlinewidth\":0,\"ticks\":\"\"}}}],\"bar\":[{\"error_x\":{\"color\":\"#2a3f5f\"},\"error_y\":{\"color\":\"#2a3f5f\"},\"marker\":{\"line\":{\"color\":\"#E5ECF6\",\"width\":0.5},\"pattern\":{\"fillmode\":\"overlay\",\"size\":10,\"solidity\":0.2}},\"type\":\"bar\"}],\"scattergeo\":[{\"type\":\"scattergeo\",\"marker\":{\"colorbar\":{\"outlinewidth\":0,\"ticks\":\"\"}}}],\"scatterpolar\":[{\"type\":\"scatterpolar\",\"marker\":{\"colorbar\":{\"outlinewidth\":0,\"ticks\":\"\"}}}],\"histogram\":[{\"marker\":{\"pattern\":{\"fillmode\":\"overlay\",\"size\":10,\"solidity\":0.2}},\"type\":\"histogram\"}],\"scattergl\":[{\"type\":\"scattergl\",\"marker\":{\"colorbar\":{\"outlinewidth\":0,\"ticks\":\"\"}}}],\"scatter3d\":[{\"type\":\"scatter3d\",\"line\":{\"colorbar\":{\"outlinewidth\":0,\"ticks\":\"\"}},\"marker\":{\"colorbar\":{\"outlinewidth\":0,\"ticks\":\"\"}}}],\"scattermapbox\":[{\"type\":\"scattermapbox\",\"marker\":{\"colorbar\":{\"outlinewidth\":0,\"ticks\":\"\"}}}],\"scatterternary\":[{\"type\":\"scatterternary\",\"marker\":{\"colorbar\":{\"outlinewidth\":0,\"ticks\":\"\"}}}],\"scattercarpet\":[{\"type\":\"scattercarpet\",\"marker\":{\"colorbar\":{\"outlinewidth\":0,\"ticks\":\"\"}}}],\"carpet\":[{\"aaxis\":{\"endlinecolor\":\"#2a3f5f\",\"gridcolor\":\"white\",\"linecolor\":\"white\",\"minorgridcolor\":\"white\",\"startlinecolor\":\"#2a3f5f\"},\"baxis\":{\"endlinecolor\":\"#2a3f5f\",\"gridcolor\":\"white\",\"linecolor\":\"white\",\"minorgridcolor\":\"white\",\"startlinecolor\":\"#2a3f5f\"},\"type\":\"carpet\"}],\"table\":[{\"cells\":{\"fill\":{\"color\":\"#EBF0F8\"},\"line\":{\"color\":\"white\"}},\"header\":{\"fill\":{\"color\":\"#C8D4E3\"},\"line\":{\"color\":\"white\"}},\"type\":\"table\"}],\"barpolar\":[{\"marker\":{\"line\":{\"color\":\"#E5ECF6\",\"width\":0.5},\"pattern\":{\"fillmode\":\"overlay\",\"size\":10,\"solidity\":0.2}},\"type\":\"barpolar\"}],\"pie\":[{\"automargin\":true,\"type\":\"pie\"}]},\"layout\":{\"autotypenumbers\":\"strict\",\"colorway\":[\"#636efa\",\"#EF553B\",\"#00cc96\",\"#ab63fa\",\"#FFA15A\",\"#19d3f3\",\"#FF6692\",\"#B6E880\",\"#FF97FF\",\"#FECB52\"],\"font\":{\"color\":\"#2a3f5f\"},\"hovermode\":\"closest\",\"hoverlabel\":{\"align\":\"left\"},\"paper_bgcolor\":\"white\",\"plot_bgcolor\":\"#E5ECF6\",\"polar\":{\"bgcolor\":\"#E5ECF6\",\"angularaxis\":{\"gridcolor\":\"white\",\"linecolor\":\"white\",\"ticks\":\"\"},\"radialaxis\":{\"gridcolor\":\"white\",\"linecolor\":\"white\",\"ticks\":\"\"}},\"ternary\":{\"bgcolor\":\"#E5ECF6\",\"aaxis\":{\"gridcolor\":\"white\",\"linecolor\":\"white\",\"ticks\":\"\"},\"baxis\":{\"gridcolor\":\"white\",\"linecolor\":\"white\",\"ticks\":\"\"},\"caxis\":{\"gridcolor\":\"white\",\"linecolor\":\"white\",\"ticks\":\"\"}},\"coloraxis\":{\"colorbar\":{\"outlinewidth\":0,\"ticks\":\"\"}},\"colorscale\":{\"sequential\":[[0.0,\"#0d0887\"],[0.1111111111111111,\"#46039f\"],[0.2222222222222222,\"#7201a8\"],[0.3333333333333333,\"#9c179e\"],[0.4444444444444444,\"#bd3786\"],[0.5555555555555556,\"#d8576b\"],[0.6666666666666666,\"#ed7953\"],[0.7777777777777778,\"#fb9f3a\"],[0.8888888888888888,\"#fdca26\"],[1.0,\"#f0f921\"]],\"sequentialminus\":[[0.0,\"#0d0887\"],[0.1111111111111111,\"#46039f\"],[0.2222222222222222,\"#7201a8\"],[0.3333333333333333,\"#9c179e\"],[0.4444444444444444,\"#bd3786\"],[0.5555555555555556,\"#d8576b\"],[0.6666666666666666,\"#ed7953\"],[0.7777777777777778,\"#fb9f3a\"],[0.8888888888888888,\"#fdca26\"],[1.0,\"#f0f921\"]],\"diverging\":[[0,\"#8e0152\"],[0.1,\"#c51b7d\"],[0.2,\"#de77ae\"],[0.3,\"#f1b6da\"],[0.4,\"#fde0ef\"],[0.5,\"#f7f7f7\"],[0.6,\"#e6f5d0\"],[0.7,\"#b8e186\"],[0.8,\"#7fbc41\"],[0.9,\"#4d9221\"],[1,\"#276419\"]]},\"xaxis\":{\"gridcolor\":\"white\",\"linecolor\":\"white\",\"ticks\":\"\",\"title\":{\"standoff\":15},\"zerolinecolor\":\"white\",\"automargin\":true,\"zerolinewidth\":2},\"yaxis\":{\"gridcolor\":\"white\",\"linecolor\":\"white\",\"ticks\":\"\",\"title\":{\"standoff\":15},\"zerolinecolor\":\"white\",\"automargin\":true,\"zerolinewidth\":2},\"scene\":{\"xaxis\":{\"backgroundcolor\":\"#E5ECF6\",\"gridcolor\":\"white\",\"linecolor\":\"white\",\"showbackground\":true,\"ticks\":\"\",\"zerolinecolor\":\"white\",\"gridwidth\":2},\"yaxis\":{\"backgroundcolor\":\"#E5ECF6\",\"gridcolor\":\"white\",\"linecolor\":\"white\",\"showbackground\":true,\"ticks\":\"\",\"zerolinecolor\":\"white\",\"gridwidth\":2},\"zaxis\":{\"backgroundcolor\":\"#E5ECF6\",\"gridcolor\":\"white\",\"linecolor\":\"white\",\"showbackground\":true,\"ticks\":\"\",\"zerolinecolor\":\"white\",\"gridwidth\":2}},\"shapedefaults\":{\"line\":{\"color\":\"#2a3f5f\"}},\"annotationdefaults\":{\"arrowcolor\":\"#2a3f5f\",\"arrowhead\":0,\"arrowwidth\":1},\"geo\":{\"bgcolor\":\"white\",\"landcolor\":\"#E5ECF6\",\"subunitcolor\":\"white\",\"showland\":true,\"showlakes\":true,\"lakecolor\":\"white\"},\"title\":{\"x\":0.05},\"mapbox\":{\"style\":\"light\"}}},\"scene\":{\"domain\":{\"x\":[0.0,1.0],\"y\":[0.0,1.0]},\"xaxis\":{\"title\":{\"text\":\"x\"}},\"yaxis\":{\"title\":{\"text\":\"y\"}},\"zaxis\":{\"title\":{\"text\":\"z\"}}},\"legend\":{\"tracegroupgap\":0},\"margin\":{\"t\":60}},                        {\"responsive\": true}                    ).then(function(){\n",
              "                            \n",
              "var gd = document.getElementById('c48090de-4d0b-4ea0-ac1f-d1c0d0336f4f');\n",
              "var x = new MutationObserver(function (mutations, observer) {{\n",
              "        var display = window.getComputedStyle(gd).display;\n",
              "        if (!display || display === 'none') {{\n",
              "            console.log([gd, 'removed!']);\n",
              "            Plotly.purge(gd);\n",
              "            observer.disconnect();\n",
              "        }}\n",
              "}});\n",
              "\n",
              "// Listen for the removal of the full notebook cells\n",
              "var notebookContainer = gd.closest('#notebook-container');\n",
              "if (notebookContainer) {{\n",
              "    x.observe(notebookContainer, {childList: true});\n",
              "}}\n",
              "\n",
              "// Listen for the clearing of the current output cell\n",
              "var outputEl = gd.closest('.output');\n",
              "if (outputEl) {{\n",
              "    x.observe(outputEl, {childList: true});\n",
              "}}\n",
              "\n",
              "                        })                };                            </script>        </div>\n",
              "</body>\n",
              "</html>"
            ]
          },
          "metadata": {}
        }
      ]
    },
    {
      "cell_type": "code",
      "source": [],
      "metadata": {
        "id": "I5UfAo9weZkX"
      },
      "execution_count": null,
      "outputs": []
    }
  ]
}